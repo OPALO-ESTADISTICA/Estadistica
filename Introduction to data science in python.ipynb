{
 "cells": [
  {
   "cell_type": "code",
   "execution_count": 2,
   "metadata": {},
   "outputs": [],
   "source": [
    "import pandas as pd\n",
    "import numpy as np\n",
    "import matplotlib.pyplot as plt"
   ]
  },
  {
   "cell_type": "code",
   "execution_count": 4,
   "metadata": {},
   "outputs": [],
   "source": [
    "# Importar datos\n",
    "df = pd.read_csv(r\"D:\\Dropbox\\DataCamp\\Pokemon.csv\") # Importar data frame"
   ]
  },
  {
   "cell_type": "markdown",
   "metadata": {},
   "source": [
    "## Tipos de gráficos"
   ]
  },
  {
   "cell_type": "code",
   "execution_count": 5,
   "metadata": {},
   "outputs": [],
   "source": [
    "df_2 = df[(df[\"Type 1\"]==\"Fire\")|(df[\"Type 1\"]==\"Ice\")|(df[\"Type 1\"]==\"Grass\")]\n",
    "m = df_2.groupby(by=\"Type 1\").mean()"
   ]
  },
  {
   "cell_type": "code",
   "execution_count": 6,
   "metadata": {},
   "outputs": [
    {
     "data": {
      "image/png": "[encoded data removed]",
      "text/plain": [
       "<Figure size 432x288 with 1 Axes>"
      ]
     },
     "metadata": {
      "needs_background": "light"
     },
     "output_type": "display_data"
    }
   ],
   "source": [
    "plt.scatter(df_2[\"Type 1\"], df_2.Attack)\n",
    "plt.show()"
   ]
  },
  {
   "cell_type": "code",
   "execution_count": 7,
   "metadata": {},
   "outputs": [
    {
     "data": {
      "image/png": "[encoded data removed]",
      "text/plain": [
       "<Figure size 576x432 with 1 Axes>"
      ]
     },
     "metadata": {
      "needs_background": "light"
     },
     "output_type": "display_data"
    }
   ],
   "source": [
    "# Se filtran los datos para tener tres tipos de pokemón y se agrupan por tipo. Se toma el valor medio\n",
    "\n",
    "plt.figure(figsize=(8,6))\n",
    "plt.bar(m.index,m.Attack, label=\"Ataque promedio\")\n",
    "plt.bar(m.index,m.Defense, bottom=m.Attack, label=\"Defensa promedio\")\n",
    "plt.legend();"
   ]
  },
  {
   "cell_type": "code",
   "execution_count": 8,
   "metadata": {},
   "outputs": [
    {
     "data": {
      "image/png": "[encoded data removed]",
      "text/plain": [
       "<Figure size 432x288 with 1 Axes>"
      ]
     },
     "metadata": {
      "needs_background": "light"
     },
     "output_type": "display_data"
    }
   ],
   "source": [
    "plt.hist(df_2.Attack,alpha=0.4, density=True); # El argumento density permite normalizar los elementos del histograma"
   ]
  },
  {
   "cell_type": "markdown",
   "metadata": {},
   "source": [
    "## Tipos de variables/arreglos"
   ]
  },
  {
   "cell_type": "markdown",
   "metadata": {},
   "source": [
    "### Listas"
   ]
  },
  {
   "cell_type": "code",
   "execution_count": 9,
   "metadata": {},
   "outputs": [
    {
     "name": "stdout",
     "output_type": "stream",
     "text": [
      "['Fara', 'Gato', 'Nutria', 'Perro', 'Vaca', 'Zorro']\n"
     ]
    }
   ],
   "source": [
    "animales = [\"Perro\",\"Gato\",\"Vaca\",\"Fara\"] # Se crea la lista vacía \n",
    "animales.extend([\"Zorro\",\"Nutria\"])\n",
    "print(sorted(animales))"
   ]
  },
  {
   "cell_type": "markdown",
   "metadata": {},
   "source": [
    "### Tuplas"
   ]
  },
  {
   "cell_type": "code",
   "execution_count": 10,
   "metadata": {},
   "outputs": [
    {
     "name": "stdout",
     "output_type": "stream",
     "text": [
      "Orden 0: par ('Perro', 'Perro')\n",
      "Orden 1: par ('Gato', 'Gato')\n",
      "Orden 2: par ('Vaca', 'Vaca')\n",
      "Orden 3: par ('Fara', 'Fara')\n",
      "Orden 4: par ('Zorro', 'Zorro')\n",
      "Orden 5: par ('Nutria', 'Nutria')\n"
     ]
    }
   ],
   "source": [
    "# Manejo de tuplas\n",
    "\n",
    "A = zip(animales,animales)\n",
    "for idx, par in enumerate(A):\n",
    "    print(\"Orden {}: par {}\" .format(idx,par))"
   ]
  },
  {
   "cell_type": "markdown",
   "metadata": {},
   "source": [
    "### Set"
   ]
  },
  {
   "cell_type": "markdown",
   "metadata": {},
   "source": [
    "Un tercer conjunto de datos son los sets, los cuales almacenan valores únicos y permiten realizar operaciones de conjuntos entre diferentes arreglos"
   ]
  },
  {
   "cell_type": "code",
   "execution_count": 11,
   "metadata": {},
   "outputs": [
    {
     "name": "stdout",
     "output_type": "stream",
     "text": [
      "{1, 2, 3, 34, 5, 6, 33, 4, 43, 45, 31}\n",
      "{33, 2, 3, 34, 5, 4, 6, 31}\n"
     ]
    }
   ],
   "source": [
    "# Manejo de sets\n",
    "\n",
    "A = [1,2,34,3,2,43,45,5,6,5]\n",
    "B = [2,3,2,33,34,5,4,6,31]\n",
    "\n",
    "S = set(A)\n",
    "S.update(B) # Actualiza valores provenientes de otro arreglo, agrega los que no estaban previamente\n",
    "\n",
    "print(S.union(B))                     # Valores presentes en S o en B\n",
    "print(S.intersection(B))              # Valores presentes en S y B"
   ]
  },
  {
   "cell_type": "markdown",
   "metadata": {},
   "source": [
    "### Diccionario"
   ]
  },
  {
   "cell_type": "code",
   "execution_count": 12,
   "metadata": {},
   "outputs": [
    {
     "data": {
      "text/plain": [
       "'No definido'"
      ]
     },
     "execution_count": 12,
     "metadata": {},
     "output_type": "execute_result"
    }
   ],
   "source": [
    "Edad = [5,3,4,2,3,4]\n",
    "an = zip(animales, Edad)\n",
    "\n",
    "dic = {}\n",
    "for i,j in an:\n",
    "    dic[i] = j\n",
    "    \n",
    "dic.get(\"Ga\",\"No definido\")"
   ]
  },
  {
   "cell_type": "code",
   "execution_count": 13,
   "metadata": {},
   "outputs": [],
   "source": [
    "# Se crea una variable con nombres por año\n",
    "boy_names = {2012: {},\n",
    " 2013: {1: 'David',\n",
    "  2: 'Joseph',\n",
    "  3: 'Michael',\n",
    "  4: 'Moshe',\n",
    "  5: 'Daniel',\n",
    "  6: 'Benjamin',\n",
    "  7: 'James',\n",
    "  8: 'Jacob',\n",
    "  9: 'Jack',\n",
    "  10: 'Alexander',\n",
    "  11: 'William',\n",
    "  12: 'John',\n",
    "  13: 'Henry',\n",
    "  14: 'Noah',\n",
    "  15: 'Samuel',\n",
    "  16: 'Nicholas',\n",
    "  17: 'Matthew',\n",
    "  18: 'Adam',\n",
    "  19: 'Chaim',\n",
    "  20: 'Abraham',\n",
    "  21: 'Liam',\n",
    "  22: 'Ryan',\n",
    "  23: 'Lucas',\n",
    "  24: 'Anthony',\n",
    "  25: 'Isaac',\n",
    "  26: 'Oliver',\n",
    "  27: 'Andrew',\n",
    "  28: 'Gabriel',\n",
    "  29: 'Yosef',\n",
    "  30: 'Leo',\n",
    "  31: 'Thomas',\n",
    "  32: 'Luke',\n",
    "  33: 'Jackson',\n",
    "  34: 'Shimon',\n",
    "  35: 'Theodore',\n",
    "  36: 'Joshua',\n",
    "  37: 'Christopher',\n",
    "  38: 'Sebastian',\n",
    "  39: 'Mason',\n",
    "  40: 'Eli',\n",
    "  41: 'Nathan',\n",
    "  42: 'Aaron',\n",
    "  43: 'Zachary',\n",
    "  44: 'Aron',\n",
    "  45: 'Luca',\n",
    "  46: 'Yehuda',\n",
    "  47: 'Yitzchok',\n",
    "  48: 'Owen',\n",
    "  49: 'Menachem',\n",
    "  50: 'Logan',\n",
    "  51: 'Aiden',\n",
    "  52: 'Yisroel',\n",
    "  53: 'Peter',\n",
    "  54: 'Yaakov',\n",
    "  55: 'Yakov',\n",
    "  56: 'Omar',\n",
    "  57: 'Levi',\n",
    "  58: 'Simon',\n",
    "  59: 'Shmuel',\n",
    "  60: 'Patrick',\n",
    "  61: 'Connor',\n",
    "  62: 'Jonah',\n",
    "  63: 'Zev',\n",
    "  64: 'Tzvi',\n",
    "  65: 'Nathaniel',\n",
    "  66: 'Harrison',\n",
    "  67: 'Tyler',\n",
    "  68: 'Mark',\n",
    "  69: 'Hunter',\n",
    "  70: 'Mohamed',\n",
    "  71: 'Lipa',\n",
    "  72: 'Mendel',\n",
    "  73: 'Sean',\n",
    "  74: 'Sam',\n",
    "  75: 'Solomon',\n",
    "  76: 'Martin',\n",
    "  77: 'Edward',\n",
    "  78: 'Wyatt',\n",
    "  79: 'Parker',\n",
    "  80: 'Steven',\n",
    "  81: 'Yechiel',\n",
    "  82: 'Nicolas',\n",
    "  83: 'Timothy',\n",
    "  84: 'Spencer',\n",
    "  85: 'Usher',\n",
    "  86: 'Rafael',\n",
    "  87: 'Yusuf',\n",
    "  88: 'Yehoshua',\n",
    "  89: 'Shaya',\n",
    "  90: 'Rayan',\n",
    "  91: 'Tristan',\n",
    "  92: 'Yossi',\n",
    "  93: 'Wesley',\n",
    "  94: 'Yoel',\n",
    "  95: 'Sawyer',\n",
    "  96: 'Yousef',\n",
    "  97: 'Walter',\n",
    "  98: 'Zalmen',\n",
    "  99: 'Yeshaya',\n",
    "  100: 'Yitzchak'},\n",
    " 2014: {1: 'Joseph',\n",
    "  2: 'David',\n",
    "  3: 'Michael',\n",
    "  4: 'Moshe',\n",
    "  5: 'Jacob',\n",
    "  6: 'Benjamin',\n",
    "  7: 'Alexander',\n",
    "  8: 'Daniel',\n",
    "  9: 'Samuel',\n",
    "  10: 'Jack',\n",
    "  11: 'James',\n",
    "  12: 'Adam',\n",
    "  13: 'William',\n",
    "  14: 'Henry',\n",
    "  15: 'Abraham',\n",
    "  16: 'Nicholas',\n",
    "  17: 'John',\n",
    "  18: 'Ethan',\n",
    "  19: 'Liam',\n",
    "  20: 'Ryan',\n",
    "  21: 'Noah',\n",
    "  22: 'Matthew',\n",
    "  23: 'Chaim',\n",
    "  24: 'Theodore',\n",
    "  25: 'Isaac',\n",
    "  26: 'Lucas',\n",
    "  27: 'Thomas',\n",
    "  28: 'Yosef',\n",
    "  29: 'Anthony',\n",
    "  30: 'Oliver',\n",
    "  31: 'Max',\n",
    "  32: 'Gabriel',\n",
    "  33: 'Eli',\n",
    "  34: 'Shimon',\n",
    "  35: 'Luke',\n",
    "  36: 'Mason',\n",
    "  37: 'Mordechai',\n",
    "  38: 'Andrew',\n",
    "  39: 'Zachary',\n",
    "  40: 'Owen',\n",
    "  41: 'Yehuda',\n",
    "  42: 'Jackson',\n",
    "  43: 'Yisroel',\n",
    "  44: 'Nathan',\n",
    "  45: 'Aiden',\n",
    "  46: 'Christopher',\n",
    "  47: 'Jonathan',\n",
    "  48: 'Asher',\n",
    "  49: 'Logan',\n",
    "  50: 'Robert',\n",
    "  51: 'Yitzchok',\n",
    "  52: 'George',\n",
    "  53: 'Christian',\n",
    "  54: 'Aron',\n",
    "  55: 'Mark',\n",
    "  56: 'Levi',\n",
    "  57: 'Shmuel',\n",
    "  58: 'Miles',\n",
    "  59: 'Shlomo',\n",
    "  60: 'Peter',\n",
    "  61: 'Sean',\n",
    "  62: 'Eliezer',\n",
    "  63: 'Solomon',\n",
    "  64: 'Gavin',\n",
    "  65: 'Zev',\n",
    "  66: 'Nathaniel',\n",
    "  67: 'Yaakov',\n",
    "  68: 'Yakov',\n",
    "  69: 'Hunter',\n",
    "  70: 'Vincent',\n",
    "  71: 'Ari',\n",
    "  72: 'Edward',\n",
    "  73: 'Yechiel',\n",
    "  74: 'Oscar',\n",
    "  75: 'Shia',\n",
    "  76: 'Leonardo',\n",
    "  77: 'Victor',\n",
    "  78: 'Tyler',\n",
    "  79: 'Wyatt',\n",
    "  80: 'Sam',\n",
    "  81: 'Shaya',\n",
    "  82: 'Ian',\n",
    "  83: 'Raphael',\n",
    "  84: 'Philip',\n",
    "  85: 'Timothy',\n",
    "  86: 'Yehoshua',\n",
    "  87: 'Xavier',\n",
    "  88: 'Youssef',\n",
    "  89: 'Simcha',\n",
    "  90: 'Naftali',\n",
    "  91: 'Ronan',\n",
    "  92: 'Usher',\n",
    "  93: 'Shmiel',\n",
    "  94: 'Yousef',\n",
    "  95: 'Naftuli',\n",
    "  96: 'Yusuf',\n",
    "  97: 'Yossi',\n",
    "  98: 'Yisrael',\n",
    "  99: 'Shea',\n",
    "  100: 'Yoel',\n",
    "  101: 'Yahya',\n",
    "  102: 'Yidel'}}"
   ]
  },
  {
   "cell_type": "code",
   "execution_count": 14,
   "metadata": {},
   "outputs": [
    {
     "name": "stdout",
     "output_type": "stream",
     "text": [
      "2012 Desconocido\n",
      "2013 Michael\n",
      "2014 Michael\n"
     ]
    }
   ],
   "source": [
    "for year in boy_names:             # Imprimir el tercer nombre. El método get permite buscar valores o asignar salidas a valores desconocidos\n",
    "    print(year,boy_names[year].get(3,\"Desconocido\"))"
   ]
  },
  {
   "cell_type": "code",
   "execution_count": 15,
   "metadata": {},
   "outputs": [
    {
     "name": "stdout",
     "output_type": "stream",
     "text": [
      "dict_keys([2014])\n"
     ]
    }
   ],
   "source": [
    "# Para borrar elementos de un diccionario se pueden usar los métodos de pop y del\n",
    "\n",
    "boy_names.pop(2015,{})  # En caso que la llave no existe, en vez de arrojar error arroja un dic vacío, por eso el segundo argumento\n",
    "names_2013 = boy_names.pop(2013)  # Elimina la llave y guarda su valor en una nueva variable\n",
    "del(boy_names[2012])              # Elimina la llave del diccionario\n",
    " \n",
    "print(boy_names.keys())"
   ]
  },
  {
   "cell_type": "code",
   "execution_count": 16,
   "metadata": {},
   "outputs": [
    {
     "name": "stdout",
     "output_type": "stream",
     "text": [
      "1 Joseph\n",
      "2 David\n",
      "3 Michael\n",
      "4 Moshe\n",
      "5 Jacob\n",
      "6 Benjamin\n",
      "7 Alexander\n",
      "8 Daniel\n",
      "9 Samuel\n",
      "10 Jack\n",
      "11 James\n",
      "12 Adam\n",
      "13 William\n",
      "14 Henry\n",
      "15 Abraham\n",
      "16 Nicholas\n",
      "17 John\n",
      "18 Ethan\n",
      "19 Liam\n",
      "20 Ryan\n",
      "21 Noah\n",
      "22 Matthew\n",
      "23 Chaim\n",
      "24 Theodore\n",
      "25 Isaac\n",
      "26 Lucas\n",
      "27 Thomas\n",
      "28 Yosef\n",
      "29 Anthony\n",
      "30 Oliver\n",
      "31 Max\n",
      "32 Gabriel\n",
      "33 Eli\n",
      "34 Shimon\n",
      "35 Luke\n",
      "36 Mason\n",
      "37 Mordechai\n",
      "38 Andrew\n",
      "39 Zachary\n",
      "40 Owen\n",
      "41 Yehuda\n",
      "42 Jackson\n",
      "43 Yisroel\n",
      "44 Nathan\n",
      "45 Aiden\n",
      "46 Christopher\n",
      "47 Jonathan\n",
      "48 Asher\n",
      "49 Logan\n",
      "50 Robert\n",
      "51 Yitzchok\n",
      "52 George\n",
      "53 Christian\n",
      "54 Aron\n",
      "55 Mark\n",
      "56 Levi\n",
      "57 Shmuel\n",
      "58 Miles\n",
      "59 Shlomo\n",
      "60 Peter\n",
      "61 Sean\n",
      "62 Eliezer\n",
      "63 Solomon\n",
      "64 Gavin\n",
      "65 Zev\n",
      "66 Nathaniel\n",
      "67 Yaakov\n",
      "68 Yakov\n",
      "69 Hunter\n",
      "70 Vincent\n",
      "71 Ari\n",
      "72 Edward\n",
      "73 Yechiel\n",
      "74 Oscar\n",
      "75 Shia\n",
      "76 Leonardo\n",
      "77 Victor\n",
      "78 Tyler\n",
      "79 Wyatt\n",
      "80 Sam\n",
      "81 Shaya\n",
      "82 Ian\n",
      "83 Raphael\n",
      "84 Philip\n",
      "85 Timothy\n",
      "86 Yehoshua\n",
      "87 Xavier\n",
      "88 Youssef\n",
      "89 Simcha\n",
      "90 Naftali\n",
      "91 Ronan\n",
      "92 Usher\n",
      "93 Shmiel\n",
      "94 Yousef\n",
      "95 Naftuli\n",
      "96 Yusuf\n",
      "97 Yossi\n",
      "98 Yisrael\n",
      "99 Shea\n",
      "100 Yoel\n",
      "101 Yahya\n",
      "102 Yidel\n"
     ]
    }
   ],
   "source": [
    "for i, j in boy_names[2014].items():\n",
    "    print(i,j)"
   ]
  },
  {
   "cell_type": "code",
   "execution_count": 17,
   "metadata": {},
   "outputs": [
    {
     "name": "stdout",
     "output_type": "stream",
     "text": [
      "Jacob\n"
     ]
    }
   ],
   "source": [
    "if 5 in boy_names[2014]:        # de manera similar a get, el uso de in permite evaluar si una llave está en un di ccionario\n",
    "    print(boy_names[2014][5])"
   ]
  },
  {
   "cell_type": "markdown",
   "metadata": {},
   "source": [
    "### CSV"
   ]
  },
  {
   "cell_type": "code",
   "execution_count": 18,
   "metadata": {},
   "outputs": [],
   "source": [
    "import csv"
   ]
  },
  {
   "cell_type": "code",
   "execution_count": 22,
   "metadata": {},
   "outputs": [],
   "source": [
    "csvfile = open(\"D:\\Dropbox\\DataCamp\\Pokemon.csv\",\"r\")\n",
    "\n",
    "dic = {}\n",
    "for i in csv.reader(csvfile):      # La función csv.reader permite manipular cada fila del archivo csv\n",
    "    dic[i[1]] = [i[6],i[7]]\n",
    "\n",
    "# Se crea un diccionario con el nombre de cada pokemon como llave y los valores son el ataque y la defensa"
   ]
  },
  {
   "cell_type": "code",
   "execution_count": 27,
   "metadata": {},
   "outputs": [],
   "source": [
    "# Si el archivo csv tiene una primera fila con el nombre de las columnas, entonces es posible asignarlas como llaves\n",
    "# La función DictReader convierte cada fila en un diccionario\n",
    "csvfile = open(\"D:\\Dropbox\\DataCamp\\Pokemon.csv\",\"r\")\n",
    "\n",
    "dic = {}\n",
    "for i in csv.DictReader(csvfile):\n",
    "    dic[i[\"Name\"]] = i[\"Attack\"]"
   ]
  },
  {
   "cell_type": "markdown",
   "metadata": {},
   "source": [
    "## Counter - Función del módulo collections"
   ]
  },
  {
   "cell_type": "code",
   "execution_count": 29,
   "metadata": {},
   "outputs": [
    {
     "name": "stdout",
     "output_type": "stream",
     "text": [
      "[('Water', 112), ('Normal', 98), ('Grass', 70), ('Bug', 69), ('Psychic', 57)]\n"
     ]
    }
   ],
   "source": [
    "from collections import Counter\n",
    "\n",
    "tipo = Counter(df[\"Type 1\"])\n",
    "\n",
    "# Contar los 5 tipos más populares de pokemón\n",
    "print(tipo.most_common(5))"
   ]
  },
  {
   "cell_type": "code",
   "execution_count": 38,
   "metadata": {},
   "outputs": [
    {
     "data": {
      "text/html": [
       "<div>\n",
       "<style scoped>\n",
       "    .dataframe tbody tr th:only-of-type {\n",
       "        vertical-align: middle;\n",
       "    }\n",
       "\n",
       "    .dataframe tbody tr th {\n",
       "        vertical-align: top;\n",
       "    }\n",
       "\n",
       "    .dataframe thead th {\n",
       "        text-align: right;\n",
       "    }\n",
       "</style>\n",
       "<table border=\"1\" class=\"dataframe\">\n",
       "  <thead>\n",
       "    <tr style=\"text-align: right;\">\n",
       "      <th></th>\n",
       "      <th>#</th>\n",
       "      <th>Name</th>\n",
       "      <th>Type 1</th>\n",
       "      <th>Type 2</th>\n",
       "      <th>Total</th>\n",
       "      <th>HP</th>\n",
       "      <th>Attack</th>\n",
       "      <th>Defense</th>\n",
       "      <th>Sp. Atk</th>\n",
       "      <th>Sp. Def</th>\n",
       "      <th>Speed</th>\n",
       "      <th>Generation</th>\n",
       "      <th>Legendary</th>\n",
       "    </tr>\n",
       "  </thead>\n",
       "  <tbody>\n",
       "    <tr>\n",
       "      <th>0</th>\n",
       "      <td>1</td>\n",
       "      <td>Bulbasaur</td>\n",
       "      <td>Grass</td>\n",
       "      <td>Poison</td>\n",
       "      <td>318</td>\n",
       "      <td>45</td>\n",
       "      <td>49</td>\n",
       "      <td>49</td>\n",
       "      <td>65</td>\n",
       "      <td>65</td>\n",
       "      <td>45</td>\n",
       "      <td>1</td>\n",
       "      <td>False</td>\n",
       "    </tr>\n",
       "    <tr>\n",
       "      <th>1</th>\n",
       "      <td>2</td>\n",
       "      <td>Ivysaur</td>\n",
       "      <td>Grass</td>\n",
       "      <td>Poison</td>\n",
       "      <td>405</td>\n",
       "      <td>60</td>\n",
       "      <td>62</td>\n",
       "      <td>63</td>\n",
       "      <td>80</td>\n",
       "      <td>80</td>\n",
       "      <td>60</td>\n",
       "      <td>1</td>\n",
       "      <td>False</td>\n",
       "    </tr>\n",
       "    <tr>\n",
       "      <th>2</th>\n",
       "      <td>3</td>\n",
       "      <td>Venusaur</td>\n",
       "      <td>Grass</td>\n",
       "      <td>Poison</td>\n",
       "      <td>525</td>\n",
       "      <td>80</td>\n",
       "      <td>82</td>\n",
       "      <td>83</td>\n",
       "      <td>100</td>\n",
       "      <td>100</td>\n",
       "      <td>80</td>\n",
       "      <td>1</td>\n",
       "      <td>False</td>\n",
       "    </tr>\n",
       "    <tr>\n",
       "      <th>3</th>\n",
       "      <td>3</td>\n",
       "      <td>VenusaurMega Venusaur</td>\n",
       "      <td>Grass</td>\n",
       "      <td>Poison</td>\n",
       "      <td>625</td>\n",
       "      <td>80</td>\n",
       "      <td>100</td>\n",
       "      <td>123</td>\n",
       "      <td>122</td>\n",
       "      <td>120</td>\n",
       "      <td>80</td>\n",
       "      <td>1</td>\n",
       "      <td>False</td>\n",
       "    </tr>\n",
       "    <tr>\n",
       "      <th>4</th>\n",
       "      <td>4</td>\n",
       "      <td>Charmander</td>\n",
       "      <td>Fire</td>\n",
       "      <td>NaN</td>\n",
       "      <td>309</td>\n",
       "      <td>39</td>\n",
       "      <td>52</td>\n",
       "      <td>43</td>\n",
       "      <td>60</td>\n",
       "      <td>50</td>\n",
       "      <td>65</td>\n",
       "      <td>1</td>\n",
       "      <td>False</td>\n",
       "    </tr>\n",
       "    <tr>\n",
       "      <th>...</th>\n",
       "      <td>...</td>\n",
       "      <td>...</td>\n",
       "      <td>...</td>\n",
       "      <td>...</td>\n",
       "      <td>...</td>\n",
       "      <td>...</td>\n",
       "      <td>...</td>\n",
       "      <td>...</td>\n",
       "      <td>...</td>\n",
       "      <td>...</td>\n",
       "      <td>...</td>\n",
       "      <td>...</td>\n",
       "      <td>...</td>\n",
       "    </tr>\n",
       "    <tr>\n",
       "      <th>795</th>\n",
       "      <td>719</td>\n",
       "      <td>Diancie</td>\n",
       "      <td>Rock</td>\n",
       "      <td>Fairy</td>\n",
       "      <td>600</td>\n",
       "      <td>50</td>\n",
       "      <td>100</td>\n",
       "      <td>150</td>\n",
       "      <td>100</td>\n",
       "      <td>150</td>\n",
       "      <td>50</td>\n",
       "      <td>6</td>\n",
       "      <td>True</td>\n",
       "    </tr>\n",
       "    <tr>\n",
       "      <th>796</th>\n",
       "      <td>719</td>\n",
       "      <td>DiancieMega Diancie</td>\n",
       "      <td>Rock</td>\n",
       "      <td>Fairy</td>\n",
       "      <td>700</td>\n",
       "      <td>50</td>\n",
       "      <td>160</td>\n",
       "      <td>110</td>\n",
       "      <td>160</td>\n",
       "      <td>110</td>\n",
       "      <td>110</td>\n",
       "      <td>6</td>\n",
       "      <td>True</td>\n",
       "    </tr>\n",
       "    <tr>\n",
       "      <th>797</th>\n",
       "      <td>720</td>\n",
       "      <td>HoopaHoopa Confined</td>\n",
       "      <td>Psychic</td>\n",
       "      <td>Ghost</td>\n",
       "      <td>600</td>\n",
       "      <td>80</td>\n",
       "      <td>110</td>\n",
       "      <td>60</td>\n",
       "      <td>150</td>\n",
       "      <td>130</td>\n",
       "      <td>70</td>\n",
       "      <td>6</td>\n",
       "      <td>True</td>\n",
       "    </tr>\n",
       "    <tr>\n",
       "      <th>798</th>\n",
       "      <td>720</td>\n",
       "      <td>HoopaHoopa Unbound</td>\n",
       "      <td>Psychic</td>\n",
       "      <td>Dark</td>\n",
       "      <td>680</td>\n",
       "      <td>80</td>\n",
       "      <td>160</td>\n",
       "      <td>60</td>\n",
       "      <td>170</td>\n",
       "      <td>130</td>\n",
       "      <td>80</td>\n",
       "      <td>6</td>\n",
       "      <td>True</td>\n",
       "    </tr>\n",
       "    <tr>\n",
       "      <th>799</th>\n",
       "      <td>721</td>\n",
       "      <td>Volcanion</td>\n",
       "      <td>Fire</td>\n",
       "      <td>Water</td>\n",
       "      <td>600</td>\n",
       "      <td>80</td>\n",
       "      <td>110</td>\n",
       "      <td>120</td>\n",
       "      <td>130</td>\n",
       "      <td>90</td>\n",
       "      <td>70</td>\n",
       "      <td>6</td>\n",
       "      <td>True</td>\n",
       "    </tr>\n",
       "  </tbody>\n",
       "</table>\n",
       "<p>800 rows × 13 columns</p>\n",
       "</div>"
      ],
      "text/plain": [
       "       #                   Name   Type 1  Type 2  Total  HP  Attack  Defense  \\\n",
       "0      1              Bulbasaur    Grass  Poison    318  45      49       49   \n",
       "1      2                Ivysaur    Grass  Poison    405  60      62       63   \n",
       "2      3               Venusaur    Grass  Poison    525  80      82       83   \n",
       "3      3  VenusaurMega Venusaur    Grass  Poison    625  80     100      123   \n",
       "4      4             Charmander     Fire     NaN    309  39      52       43   \n",
       "..   ...                    ...      ...     ...    ...  ..     ...      ...   \n",
       "795  719                Diancie     Rock   Fairy    600  50     100      150   \n",
       "796  719    DiancieMega Diancie     Rock   Fairy    700  50     160      110   \n",
       "797  720    HoopaHoopa Confined  Psychic   Ghost    600  80     110       60   \n",
       "798  720     HoopaHoopa Unbound  Psychic    Dark    680  80     160       60   \n",
       "799  721              Volcanion     Fire   Water    600  80     110      120   \n",
       "\n",
       "     Sp. Atk  Sp. Def  Speed  Generation  Legendary  \n",
       "0         65       65     45           1      False  \n",
       "1         80       80     60           1      False  \n",
       "2        100      100     80           1      False  \n",
       "3        122      120     80           1      False  \n",
       "4         60       50     65           1      False  \n",
       "..       ...      ...    ...         ...        ...  \n",
       "795      100      150     50           6       True  \n",
       "796      160      110    110           6       True  \n",
       "797      150      130     70           6       True  \n",
       "798      170      130     80           6       True  \n",
       "799      130       90     70           6       True  \n",
       "\n",
       "[800 rows x 13 columns]"
      ]
     },
     "execution_count": 38,
     "metadata": {},
     "output_type": "execute_result"
    }
   ],
   "source": [
    "df"
   ]
  }
 ],
 "metadata": {
  "kernelspec": {
   "display_name": "Python 3",
   "language": "python",
   "name": "python3"
  },
  "language_info": {
   "codemirror_mode": {
    "name": "ipython",
    "version": 3
   },
   "file_extension": ".py",
   "mimetype": "text/x-python",
   "name": "python",
   "nbconvert_exporter": "python",
   "pygments_lexer": "ipython3",
   "version": "3.7.6"
  }
 },
 "nbformat": 4,
 "nbformat_minor": 2
}
