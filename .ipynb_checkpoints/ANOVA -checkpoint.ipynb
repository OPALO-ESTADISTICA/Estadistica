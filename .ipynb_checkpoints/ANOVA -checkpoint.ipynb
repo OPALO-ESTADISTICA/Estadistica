{
 "cells": [
  {
   "cell_type": "code",
   "execution_count": 1,
   "metadata": {},
   "outputs": [],
   "source": [
    "# Se importan los diferentes módulos que serán empleados\n",
    "\n",
    "import pandas as pd\n",
    "import numpy as np\n",
    "import matplotlib.pyplot as plt\n",
    "import seaborn as sns\n",
    "import scipy.stats as stats\n",
    "import statsmodels.api as sm\n",
    "from statsmodels.formula.api import ols\n",
    "from statsmodels.graphics.api import interaction_plot, abline_plot"
   ]
  },
  {
   "cell_type": "code",
   "execution_count": 2,
   "metadata": {},
   "outputs": [],
   "source": [
    "sns.set() # Activar el módulo de seaborn para una visualización más estética"
   ]
  },
  {
   "cell_type": "markdown",
   "metadata": {},
   "source": [
    "## Análisis de varianza para un solo factor"
   ]
  },
  {
   "cell_type": "markdown",
   "metadata": {},
   "source": [
    "A continuación se presenta un ejeplo del uso de python como herramienta para realizar el análisis de varianza para un experimento con un solo factor. El experimento que se propone es:\n",
    "\n",
    "* Una ingeniera encargada de la producción de películas plásticas sospecha que el tiempo de falla depende del tipo de material, por lo que usando su ingenio y conocimientos de estadística plantea un experimento diseñado. El experimento consiste en probar cinco diferentes tipos de material y replicarlo 5 veces. Los resultados después de hacer las pruebas se anexan.\n"
   ]
  },
  {
   "cell_type": "markdown",
   "metadata": {},
   "source": [
    "### 1. Análisis descriptivo\n",
    "\n",
    "Antes de realizar cualquier análisis, la ingeniera se plantea evaluar los datos mediante un análisis descriptivo, por lo que se apoya en gráficas y medidas de tendencia central/variabilidad para tener un primer acercamiento a sus resultados"
   ]
  },
  {
   "cell_type": "code",
   "execution_count": 3,
   "metadata": {},
   "outputs": [],
   "source": [
    "# Importar datos\n",
    "\n",
    "df = pd.read_excel(\"Ejemplo.xlsx\")"
   ]
  },
  {
   "cell_type": "code",
   "execution_count": 4,
   "metadata": {},
   "outputs": [
    {
     "data": {
      "image/png": "[encoded data removed]",
      "text/plain": [
       "<Figure size 432x288 with 1 Axes>"
      ]
     },
     "metadata": {},
     "output_type": "display_data"
    }
   ],
   "source": [
    "# Diagrama de dispersión por material\n",
    "\n",
    "sns.swarmplot(x=\"Material\", y=\"T_falla\",data=df)       # Realizar el gráfico usando seaborn (sns)\n",
    "plt.ylabel(\"Tiempo de falla\")                          # Agregar nombre al eje y\n",
    "plt.title(\" Diagrama de dispersión para materiales\");  # Agregar título al gráfico"
   ]
  },
  {
   "cell_type": "code",
   "execution_count": 5,
   "metadata": {},
   "outputs": [
    {
     "data": {
      "image/png": "[encoded data removed]",
      "text/plain": [
       "<Figure size 432x288 with 1 Axes>"
      ]
     },
     "metadata": {},
     "output_type": "display_data"
    }
   ],
   "source": [
    "# Diagrama de caja por material\n",
    "\n",
    "sns.boxplot(x=\"Material\", y=\"T_falla\",data=df,showmeans=True, \n",
    "            meanprops={\"marker\":\"s\",\"markerfacecolor\":\"white\", \"markeredgecolor\":\"blue\"})\n",
    "plt.ylabel(\"Tiempo de falla\")\n",
    "plt.title(\" Diagrama de cajas para materiales\");"
   ]
  },
  {
   "cell_type": "code",
   "execution_count": 6,
   "metadata": {},
   "outputs": [
    {
     "data": {
      "text/html": [
       "<div>\n",
       "<style scoped>\n",
       "    .dataframe tbody tr th:only-of-type {\n",
       "        vertical-align: middle;\n",
       "    }\n",
       "\n",
       "    .dataframe tbody tr th {\n",
       "        vertical-align: top;\n",
       "    }\n",
       "\n",
       "    .dataframe thead tr th {\n",
       "        text-align: left;\n",
       "    }\n",
       "\n",
       "    .dataframe thead tr:last-of-type th {\n",
       "        text-align: right;\n",
       "    }\n",
       "</style>\n",
       "<table border=\"1\" class=\"dataframe\">\n",
       "  <thead>\n",
       "    <tr>\n",
       "      <th></th>\n",
       "      <th colspan=\"8\" halign=\"left\">T_falla</th>\n",
       "      <th colspan=\"8\" halign=\"left\">Medias</th>\n",
       "    </tr>\n",
       "    <tr>\n",
       "      <th></th>\n",
       "      <th>count</th>\n",
       "      <th>mean</th>\n",
       "      <th>std</th>\n",
       "      <th>min</th>\n",
       "      <th>25%</th>\n",
       "      <th>50%</th>\n",
       "      <th>75%</th>\n",
       "      <th>max</th>\n",
       "      <th>count</th>\n",
       "      <th>mean</th>\n",
       "      <th>std</th>\n",
       "      <th>min</th>\n",
       "      <th>25%</th>\n",
       "      <th>50%</th>\n",
       "      <th>75%</th>\n",
       "      <th>max</th>\n",
       "    </tr>\n",
       "    <tr>\n",
       "      <th>Material</th>\n",
       "      <th></th>\n",
       "      <th></th>\n",
       "      <th></th>\n",
       "      <th></th>\n",
       "      <th></th>\n",
       "      <th></th>\n",
       "      <th></th>\n",
       "      <th></th>\n",
       "      <th></th>\n",
       "      <th></th>\n",
       "      <th></th>\n",
       "      <th></th>\n",
       "      <th></th>\n",
       "      <th></th>\n",
       "      <th></th>\n",
       "      <th></th>\n",
       "    </tr>\n",
       "  </thead>\n",
       "  <tbody>\n",
       "    <tr>\n",
       "      <th>A</th>\n",
       "      <td>5.0</td>\n",
       "      <td>20.0</td>\n",
       "      <td>6.442049</td>\n",
       "      <td>12.0</td>\n",
       "      <td>19.0</td>\n",
       "      <td>19.0</td>\n",
       "      <td>20.0</td>\n",
       "      <td>30.0</td>\n",
       "      <td>5.0</td>\n",
       "      <td>20.0</td>\n",
       "      <td>0.0</td>\n",
       "      <td>20.0</td>\n",
       "      <td>20.0</td>\n",
       "      <td>20.0</td>\n",
       "      <td>20.0</td>\n",
       "      <td>20.0</td>\n",
       "    </tr>\n",
       "    <tr>\n",
       "      <th>B</th>\n",
       "      <td>5.0</td>\n",
       "      <td>36.6</td>\n",
       "      <td>11.588788</td>\n",
       "      <td>25.0</td>\n",
       "      <td>26.0</td>\n",
       "      <td>35.0</td>\n",
       "      <td>47.0</td>\n",
       "      <td>50.0</td>\n",
       "      <td>5.0</td>\n",
       "      <td>36.6</td>\n",
       "      <td>0.0</td>\n",
       "      <td>36.6</td>\n",
       "      <td>36.6</td>\n",
       "      <td>36.6</td>\n",
       "      <td>36.6</td>\n",
       "      <td>36.6</td>\n",
       "    </tr>\n",
       "    <tr>\n",
       "      <th>C</th>\n",
       "      <td>5.0</td>\n",
       "      <td>70.0</td>\n",
       "      <td>11.022704</td>\n",
       "      <td>56.0</td>\n",
       "      <td>61.0</td>\n",
       "      <td>73.0</td>\n",
       "      <td>80.0</td>\n",
       "      <td>80.0</td>\n",
       "      <td>5.0</td>\n",
       "      <td>70.0</td>\n",
       "      <td>0.0</td>\n",
       "      <td>70.0</td>\n",
       "      <td>70.0</td>\n",
       "      <td>70.0</td>\n",
       "      <td>70.0</td>\n",
       "      <td>70.0</td>\n",
       "    </tr>\n",
       "    <tr>\n",
       "      <th>D</th>\n",
       "      <td>5.0</td>\n",
       "      <td>83.6</td>\n",
       "      <td>13.107250</td>\n",
       "      <td>65.0</td>\n",
       "      <td>78.0</td>\n",
       "      <td>83.0</td>\n",
       "      <td>95.0</td>\n",
       "      <td>97.0</td>\n",
       "      <td>5.0</td>\n",
       "      <td>83.6</td>\n",
       "      <td>0.0</td>\n",
       "      <td>83.6</td>\n",
       "      <td>83.6</td>\n",
       "      <td>83.6</td>\n",
       "      <td>83.6</td>\n",
       "      <td>83.6</td>\n",
       "    </tr>\n",
       "    <tr>\n",
       "      <th>E</th>\n",
       "      <td>5.0</td>\n",
       "      <td>67.8</td>\n",
       "      <td>11.432410</td>\n",
       "      <td>53.0</td>\n",
       "      <td>62.0</td>\n",
       "      <td>67.0</td>\n",
       "      <td>74.0</td>\n",
       "      <td>83.0</td>\n",
       "      <td>5.0</td>\n",
       "      <td>67.8</td>\n",
       "      <td>0.0</td>\n",
       "      <td>67.8</td>\n",
       "      <td>67.8</td>\n",
       "      <td>67.8</td>\n",
       "      <td>67.8</td>\n",
       "      <td>67.8</td>\n",
       "    </tr>\n",
       "  </tbody>\n",
       "</table>\n",
       "</div>"
      ],
      "text/plain": [
       "         T_falla                                                Medias        \\\n",
       "           count  mean        std   min   25%   50%   75%   max  count  mean   \n",
       "Material                                                                       \n",
       "A            5.0  20.0   6.442049  12.0  19.0  19.0  20.0  30.0    5.0  20.0   \n",
       "B            5.0  36.6  11.588788  25.0  26.0  35.0  47.0  50.0    5.0  36.6   \n",
       "C            5.0  70.0  11.022704  56.0  61.0  73.0  80.0  80.0    5.0  70.0   \n",
       "D            5.0  83.6  13.107250  65.0  78.0  83.0  95.0  97.0    5.0  83.6   \n",
       "E            5.0  67.8  11.432410  53.0  62.0  67.0  74.0  83.0    5.0  67.8   \n",
       "\n",
       "                                             \n",
       "          std   min   25%   50%   75%   max  \n",
       "Material                                     \n",
       "A         0.0  20.0  20.0  20.0  20.0  20.0  \n",
       "B         0.0  36.6  36.6  36.6  36.6  36.6  \n",
       "C         0.0  70.0  70.0  70.0  70.0  70.0  \n",
       "D         0.0  83.6  83.6  83.6  83.6  83.6  \n",
       "E         0.0  67.8  67.8  67.8  67.8  67.8  "
      ]
     },
     "execution_count": 6,
     "metadata": {},
     "output_type": "execute_result"
    }
   ],
   "source": [
    "# Se usa la función groupby para agrupar las observaciones y decribe para describir los grupos (tratamientos)\n",
    "\n",
    "df[\"Medias\"] = df.groupby(by=\"Material\").transform(\"mean\") # Crear una columna con las medias\n",
    "df.groupby(by=\"Material\").describe()"
   ]
  },
  {
   "cell_type": "markdown",
   "metadata": {},
   "source": [
    "### 2. Análisis de varianza\n",
    "\n",
    "Para el análisis de varianza se emplea el módulo de statsmodel el cual permite no solamente realizar el análisis de varianza, sino también las diferentes pruebas estadísticas para la verificación de supuestos"
   ]
  },
  {
   "cell_type": "code",
   "execution_count": 7,
   "metadata": {},
   "outputs": [
    {
     "name": "stdout",
     "output_type": "stream",
     "text": [
      "              sum_sq    df          F        PR(>F)\n",
      "C(Material)  13842.8   4.0  28.848783  4.710164e-08\n",
      "Residual      2399.2  20.0        NaN           NaN\n"
     ]
    }
   ],
   "source": [
    "# Inicialmente se ajusta el modelo utilizando los mínimos cuadrados ordinarios (ols)\n",
    "\n",
    "modelo = ols(\"T_falla ~ C(Material)\", data=df).fit()  # Se indica que el tiempo de falla es explicado o relacionado por el material\n",
    "anova = sm.stats.anova_lm(modelo, typ=2)           # Se realiza el análisis de varianza. Typ determina la manera en que las sumas cuadras son calculadas\n",
    "print(anova)                                       # Se imprime el análisis de varianza"
   ]
  },
  {
   "cell_type": "markdown",
   "metadata": {},
   "source": [
    "De acuerdo al estadístico F = 28.84 y el valor p = 0, se puede afirmar que existe diferencia significacitva en el tiempo de falla para los cinco materiales. Ahora el interés recae en determinar que materiales son diferentes y cuál es la mejor alternativa, pero antes es preciso evaluar el cumplimiento de los supuestos."
   ]
  },
  {
   "cell_type": "markdown",
   "metadata": {},
   "source": [
    "### 3. Pruebas de supuestos"
   ]
  },
  {
   "cell_type": "markdown",
   "metadata": {},
   "source": [
    "### a. Normalidad\n",
    "\n",
    "Tanto la normalidad como los demás supuestos pueden ser verificados empleando el análisis de los residuales y mediate herramientass gráficas o pruebas estadísticas formales"
   ]
  },
  {
   "cell_type": "code",
   "execution_count": 8,
   "metadata": {},
   "outputs": [
    {
     "data": {
      "image/png": "[encoded data removed]",
      "text/plain": [
       "<Figure size 432x288 with 1 Axes>"
      ]
     },
     "metadata": {},
     "output_type": "display_data"
    }
   ],
   "source": [
    "# Gráfico de probabilidad normal\n",
    "\n",
    "normality_plot, stat = stats.probplot(modelo.resid, plot= plt, rvalue= True)\n",
    "\n",
    "plt.title(\"Gráfico de probabilidad normal de los residuales\", fontsize= 16)\n",
    "plt.xlabel(\"Cuantiles teóricos\")\n",
    "plt.ylabel(\"Orden observado\")\n",
    "\n",
    "plt.show()"
   ]
  },
  {
   "cell_type": "code",
   "execution_count": 9,
   "metadata": {},
   "outputs": [
    {
     "name": "stdout",
     "output_type": "stream",
     "text": [
      "(0.9464983344078064, 0.20880262553691864)\n"
     ]
    }
   ],
   "source": [
    "# Prueba estadística de Shapiro Wilks\n",
    "\n",
    "SW = stats.shapiro(modelo.resid)\n",
    "print(SW)"
   ]
  },
  {
   "cell_type": "markdown",
   "metadata": {},
   "source": [
    "### Homocedasticidad"
   ]
  },
  {
   "cell_type": "code",
   "execution_count": 10,
   "metadata": {},
   "outputs": [
    {
     "data": {
      "image/png": "[encoded data removed]",
      "text/plain": [
       "<Figure size 432x288 with 1 Axes>"
      ]
     },
     "metadata": {},
     "output_type": "display_data"
    }
   ],
   "source": [
    "resid = modelo.resid\n",
    "plt.scatter(df[\"Medias\"],resid)\n",
    "plt.xlabel(\"Tratamiento\")\n",
    "plt.ylabel(\"Residual\")\n",
    "plt.title(\"Residuales vs valor ajustado\")\n",
    "plt.show()"
   ]
  },
  {
   "cell_type": "code",
   "execution_count": 11,
   "metadata": {},
   "outputs": [
    {
     "data": {
      "text/plain": [
       "LeveneResult(statistic=0.7424557752341312, pvalue=0.574265959687781)"
      ]
     },
     "execution_count": 11,
     "metadata": {},
     "output_type": "execute_result"
    }
   ],
   "source": [
    "# Prueba de levene para supuesto de homocedasticidad\n",
    "\n",
    "stats.levene(df['T_falla'][df['Material'] == 'A'],\n",
    "             df['T_falla'][df['Material'] == 'B'],\n",
    "             df['T_falla'][df['Material'] == 'C'],\n",
    "             df['T_falla'][df['Material'] == 'D'],\n",
    "             df['T_falla'][df['Material'] == 'E'])"
   ]
  },
  {
   "cell_type": "code",
   "execution_count": 12,
   "metadata": {},
   "outputs": [
    {
     "data": {
      "text/plain": [
       "BartlettResult(statistic=1.784990347917311, pvalue=0.7752272880514771)"
      ]
     },
     "execution_count": 12,
     "metadata": {},
     "output_type": "execute_result"
    }
   ],
   "source": [
    "# Prueba de Barlett para evaluación de homocedasticidad\n",
    "\n",
    "stats.bartlett(df['T_falla'][df['Material'] == 'A'],\n",
    "             df['T_falla'][df['Material'] == 'B'],\n",
    "             df['T_falla'][df['Material'] == 'C'],\n",
    "             df['T_falla'][df['Material'] == 'D'],\n",
    "             df['T_falla'][df['Material'] == 'E'])"
   ]
  },
  {
   "cell_type": "markdown",
   "metadata": {},
   "source": [
    "### Independencia"
   ]
  },
  {
   "cell_type": "code",
   "execution_count": 18,
   "metadata": {},
   "outputs": [],
   "source": [
    "import random"
   ]
  },
  {
   "cell_type": "code",
   "execution_count": 26,
   "metadata": {},
   "outputs": [
    {
     "data": {
      "image/png": "[encoded data removed]",
      "text/plain": [
       "<Figure size 432x288 with 1 Axes>"
      ]
     },
     "metadata": {},
     "output_type": "display_data"
    }
   ],
   "source": [
    "np.random.seed(6)\n",
    "\n",
    "orden = random.sample(range(26),25)\n",
    "plt.plot(orden, modelo.resid, marker=\".\", linestyle=\"none\", markersize=12)\n",
    "plt.xlabel(\"Orden\")\n",
    "plt.ylabel(\"Residuales\")\n",
    "plt.show()"
   ]
  },
  {
   "cell_type": "markdown",
   "metadata": {},
   "source": [
    "## 4. Interpretación de resultados"
   ]
  },
  {
   "cell_type": "code",
   "execution_count": 14,
   "metadata": {},
   "outputs": [],
   "source": [
    "import statsmodels.stats.multicomp as mc  # Se importa paquete para realizar comparaciones múltiples "
   ]
  },
  {
   "cell_type": "markdown",
   "metadata": {},
   "source": [
    " ### Prueba de Tukey Krammer"
   ]
  },
  {
   "cell_type": "code",
   "execution_count": 15,
   "metadata": {},
   "outputs": [
    {
     "data": {
      "text/html": [
       "<table class=\"simpletable\">\n",
       "<caption>Multiple Comparison of Means - Tukey HSD, FWER=0.05</caption>\n",
       "<tr>\n",
       "  <th>group1</th> <th>group2</th> <th>meandiff</th>  <th>p-adj</th>   <th>lower</th>   <th>upper</th>  <th>reject</th>\n",
       "</tr>\n",
       "<tr>\n",
       "     <td>A</td>      <td>B</td>     <td>16.6</td>   <td>0.1573</td>  <td>-4.1299</td> <td>37.3299</td>  <td>False</td>\n",
       "</tr>\n",
       "<tr>\n",
       "     <td>A</td>      <td>C</td>     <td>50.0</td>    <td>0.001</td>  <td>29.2701</td> <td>70.7299</td>  <td>True</td> \n",
       "</tr>\n",
       "<tr>\n",
       "     <td>A</td>      <td>D</td>     <td>63.6</td>    <td>0.001</td>  <td>42.8701</td> <td>84.3299</td>  <td>True</td> \n",
       "</tr>\n",
       "<tr>\n",
       "     <td>A</td>      <td>E</td>     <td>47.8</td>    <td>0.001</td>  <td>27.0701</td> <td>68.5299</td>  <td>True</td> \n",
       "</tr>\n",
       "<tr>\n",
       "     <td>B</td>      <td>C</td>     <td>33.4</td>    <td>0.001</td>  <td>12.6701</td> <td>54.1299</td>  <td>True</td> \n",
       "</tr>\n",
       "<tr>\n",
       "     <td>B</td>      <td>D</td>     <td>47.0</td>    <td>0.001</td>  <td>26.2701</td> <td>67.7299</td>  <td>True</td> \n",
       "</tr>\n",
       "<tr>\n",
       "     <td>B</td>      <td>E</td>     <td>31.2</td>   <td>0.0018</td>  <td>10.4701</td> <td>51.9299</td>  <td>True</td> \n",
       "</tr>\n",
       "<tr>\n",
       "     <td>C</td>      <td>D</td>     <td>13.6</td>   <td>0.3186</td>  <td>-7.1299</td> <td>34.3299</td>  <td>False</td>\n",
       "</tr>\n",
       "<tr>\n",
       "     <td>C</td>      <td>E</td>     <td>-2.2</td>     <td>0.9</td>  <td>-22.9299</td> <td>18.5299</td>  <td>False</td>\n",
       "</tr>\n",
       "<tr>\n",
       "     <td>D</td>      <td>E</td>     <td>-15.8</td>  <td>0.1921</td> <td>-36.5299</td> <td>4.9299</td>   <td>False</td>\n",
       "</tr>\n",
       "</table>"
      ],
      "text/plain": [
       "<class 'statsmodels.iolib.table.SimpleTable'>"
      ]
     },
     "execution_count": 15,
     "metadata": {},
     "output_type": "execute_result"
    }
   ],
   "source": [
    "comp = mc.MultiComparison(df[\"T_falla\"], df[\"Material\"])\n",
    "post_hoc_res = comp.tukeyhsd()\n",
    "post_hoc_res.summary()"
   ]
  },
  {
   "cell_type": "code",
   "execution_count": 16,
   "metadata": {},
   "outputs": [
    {
     "data": {
      "image/png": "[encoded data removed]",
      "text/plain": [
       "<Figure size 720x432 with 1 Axes>"
      ]
     },
     "metadata": {},
     "output_type": "display_data"
    }
   ],
   "source": [
    "post_hoc_res.plot_simultaneous(ylabel=\"Material\", xlabel=\"Diferencia\")\n",
    "plt.title(\"Comparaciones múltiples con Tukey\");"
   ]
  },
  {
   "cell_type": "markdown",
   "metadata": {},
   "source": [
    "### Prueba de Bonferroni"
   ]
  },
  {
   "cell_type": "code",
   "execution_count": 17,
   "metadata": {},
   "outputs": [
    {
     "data": {
      "text/html": [
       "<table class=\"simpletable\">\n",
       "<caption>Test Multiple Comparison ttest_ind \n",
       "FWER=0.05 method=bonf\n",
       "alphacSidak=0.01, alphacBonf=0.005</caption>\n",
       "<tr>\n",
       "  <th>group1</th> <th>group2</th>  <th>stat</th>    <th>pval</th>  <th>pval_corr</th> <th>reject</th>\n",
       "</tr>\n",
       "<tr>\n",
       "     <td>A</td>      <td>B</td>   <td>-2.7995</td> <td>0.0232</td>  <td>0.2321</td>    <td>False</td>\n",
       "</tr>\n",
       "<tr>\n",
       "     <td>A</td>      <td>C</td>   <td>-8.7571</td>   <td>0.0</td>   <td>0.0002</td>    <td>True</td> \n",
       "</tr>\n",
       "<tr>\n",
       "     <td>A</td>      <td>D</td>   <td>-9.7375</td>   <td>0.0</td>   <td>0.0001</td>    <td>True</td> \n",
       "</tr>\n",
       "<tr>\n",
       "     <td>A</td>      <td>E</td>   <td>-8.1451</td>   <td>0.0</td>   <td>0.0004</td>    <td>True</td> \n",
       "</tr>\n",
       "<tr>\n",
       "     <td>B</td>      <td>C</td>   <td>-4.6696</td> <td>0.0016</td>   <td>0.016</td>    <td>True</td> \n",
       "</tr>\n",
       "<tr>\n",
       "     <td>B</td>      <td>D</td>   <td>-6.0069</td> <td>0.0003</td>  <td>0.0032</td>    <td>True</td> \n",
       "</tr>\n",
       "<tr>\n",
       "     <td>B</td>      <td>E</td>   <td>-4.2856</td> <td>0.0027</td>  <td>0.0267</td>    <td>True</td> \n",
       "</tr>\n",
       "<tr>\n",
       "     <td>C</td>      <td>D</td>   <td>-1.7757</td> <td>0.1137</td>    <td>1.0</td>     <td>False</td>\n",
       "</tr>\n",
       "<tr>\n",
       "     <td>C</td>      <td>E</td>   <td>0.3098</td>  <td>0.7647</td>    <td>1.0</td>     <td>False</td>\n",
       "</tr>\n",
       "<tr>\n",
       "     <td>D</td>      <td>E</td>   <td>2.0313</td>  <td>0.0767</td>   <td>0.767</td>    <td>False</td>\n",
       "</tr>\n",
       "</table>"
      ],
      "text/plain": [
       "<class 'statsmodels.iolib.table.SimpleTable'>"
      ]
     },
     "execution_count": 17,
     "metadata": {},
     "output_type": "execute_result"
    }
   ],
   "source": [
    "tbl, a1, a2 = comp.allpairtest(stats.ttest_ind, method=\"bonf\")\n",
    "tbl"
   ]
  }
 ],
 "metadata": {
  "kernelspec": {
   "display_name": "Python 3",
   "language": "python",
   "name": "python3"
  },
  "language_info": {
   "codemirror_mode": {
    "name": "ipython",
    "version": 3
   },
   "file_extension": ".py",
   "mimetype": "text/x-python",
   "name": "python",
   "nbconvert_exporter": "python",
   "pygments_lexer": "ipython3",
   "version": "3.7.6"
  }
 },
 "nbformat": 4,
 "nbformat_minor": 4
}
