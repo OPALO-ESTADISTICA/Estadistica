{
 "cells": [
  {
   "cell_type": "code",
   "execution_count": 2,
   "metadata": {},
   "outputs": [],
   "source": [
    "# Se importan los diferentes módulos que serán empleados\n",
    "\n",
    "import pandas as pd\n",
    "import numpy as np\n",
    "import matplotlib.pyplot as plt\n",
    "import seaborn as sns\n",
    "import scipy.stats as stats\n",
    "import statsmodels.api as sm\n",
    "from statsmodels.formula.api import ols\n",
    "from statsmodels.graphics.api import interaction_plot, abline_plot"
   ]
  },
  {
   "cell_type": "code",
   "execution_count": 3,
   "metadata": {},
   "outputs": [
    {
     "data": {
      "text/plain": [
       "'C:\\\\Users\\\\USUARIO\\\\Desktop\\\\Código'"
      ]
     },
     "execution_count": 3,
     "metadata": {},
     "output_type": "execute_result"
    }
   ],
   "source": [
    "import os\n",
    "os.getcwd()"
   ]
  },
  {
   "cell_type": "code",
   "execution_count": 4,
   "metadata": {},
   "outputs": [],
   "source": [
    "sns.set() # Activar el módulo de seaborn para una visualización más estética"
   ]
  },
  {
   "cell_type": "markdown",
   "metadata": {},
   "source": [
    "## Análisis de varianza para un solo factor"
   ]
  },
  {
   "cell_type": "markdown",
   "metadata": {},
   "source": [
    "A continuación se presenta un ejeplo del uso de python como herramienta para realizar el análisis de varianza para un experimento con un solo factor. El experimento que se propone es:\n",
    "\n",
    "* Una ingeniera encargada de la producción de películas plásticas sospecha que el tiempo de falla depende del tipo de material, por lo que usando su ingenio y conocimientos de estadística plantea un experimento diseñado. El experimento consiste en probar cinco diferentes tipos de material y replicarlo 5 veces. Los resultados después de hacer las pruebas se anexan.\n"
   ]
  },
  {
   "cell_type": "markdown",
   "metadata": {},
   "source": [
    "### 1. Análisis descriptivo\n",
    "\n",
    "Antes de realizar cualquier análisis, la ingeniera se plantea evaluar los datos mediante un análisis descriptivo, por lo que se apoya en gráficas y medidas de tendencia central/variabilidad para tener un primer acercamiento a sus resultados"
   ]
  },
  {
   "cell_type": "code",
   "execution_count": 10,
   "metadata": {},
   "outputs": [],
   "source": [
    "# Importar datos\n",
    "\n",
    "df = pd.read_excel(\"Ejemplo.xlsx\")\n",
    "df = pd.read_excel(\"Ejemplo_2.xlsx\")"
   ]
  },
  {
   "cell_type": "code",
   "execution_count": 11,
   "metadata": {},
   "outputs": [
    {
     "data": {
      "image/png": "[encoded data removed]",
      "text/plain": [
       "<Figure size 432x288 with 1 Axes>"
      ]
     },
     "metadata": {},
     "output_type": "display_data"
    }
   ],
   "source": [
    "# Diagrama de dispersión por material\n",
    "\n",
    "sns.swarmplot(x=\"Tratamiento\", y=\"Mazorcas\",data=df)       # Realizar el gráfico usando seaborn (sns)\n",
    "plt.ylabel(\"Número de mazorcas\")                          # Agregar nombre al eje y\n",
    "plt.title(\" Diagrama de dispersión para tratamientos\");  # Agregar título al gráfico"
   ]
  },
  {
   "cell_type": "code",
   "execution_count": 12,
   "metadata": {},
   "outputs": [
    {
     "data": {
      "image/png": "[encoded data removed]",
      "text/plain": [
       "<Figure size 432x288 with 1 Axes>"
      ]
     },
     "metadata": {},
     "output_type": "display_data"
    }
   ],
   "source": [
    "# Diagrama de caja por material\n",
    "\n",
    "sns.boxplot(x=\"Tratamiento\", y=\"Mazorcas\",data=df,showmeans=True, \n",
    "            meanprops={\"marker\":\"s\",\"markerfacecolor\":\"white\", \"markeredgecolor\":\"blue\"})\n",
    "plt.ylabel(\"Mazorcas\")\n",
    "plt.title(\" Diagrama de cajas para tratamientos\");"
   ]
  },
  {
   "cell_type": "code",
   "execution_count": 13,
   "metadata": {},
   "outputs": [
    {
     "data": {
      "text/html": [
       "<div>\n",
       "<style scoped>\n",
       "    .dataframe tbody tr th:only-of-type {\n",
       "        vertical-align: middle;\n",
       "    }\n",
       "\n",
       "    .dataframe tbody tr th {\n",
       "        vertical-align: top;\n",
       "    }\n",
       "\n",
       "    .dataframe thead tr th {\n",
       "        text-align: left;\n",
       "    }\n",
       "\n",
       "    .dataframe thead tr:last-of-type th {\n",
       "        text-align: right;\n",
       "    }\n",
       "</style>\n",
       "<table border=\"1\" class=\"dataframe\">\n",
       "  <thead>\n",
       "    <tr>\n",
       "      <th></th>\n",
       "      <th colspan=\"8\" halign=\"left\">Mazorcas</th>\n",
       "      <th colspan=\"8\" halign=\"left\">Medias</th>\n",
       "    </tr>\n",
       "    <tr>\n",
       "      <th></th>\n",
       "      <th>count</th>\n",
       "      <th>mean</th>\n",
       "      <th>std</th>\n",
       "      <th>min</th>\n",
       "      <th>25%</th>\n",
       "      <th>50%</th>\n",
       "      <th>75%</th>\n",
       "      <th>max</th>\n",
       "      <th>count</th>\n",
       "      <th>mean</th>\n",
       "      <th>std</th>\n",
       "      <th>min</th>\n",
       "      <th>25%</th>\n",
       "      <th>50%</th>\n",
       "      <th>75%</th>\n",
       "      <th>max</th>\n",
       "    </tr>\n",
       "    <tr>\n",
       "      <th>Tratamiento</th>\n",
       "      <th></th>\n",
       "      <th></th>\n",
       "      <th></th>\n",
       "      <th></th>\n",
       "      <th></th>\n",
       "      <th></th>\n",
       "      <th></th>\n",
       "      <th></th>\n",
       "      <th></th>\n",
       "      <th></th>\n",
       "      <th></th>\n",
       "      <th></th>\n",
       "      <th></th>\n",
       "      <th></th>\n",
       "      <th></th>\n",
       "      <th></th>\n",
       "    </tr>\n",
       "  </thead>\n",
       "  <tbody>\n",
       "    <tr>\n",
       "      <th>0</th>\n",
       "      <td>4.0</td>\n",
       "      <td>112.0</td>\n",
       "      <td>21.102922</td>\n",
       "      <td>90.0</td>\n",
       "      <td>100.50</td>\n",
       "      <td>109.0</td>\n",
       "      <td>120.50</td>\n",
       "      <td>140.0</td>\n",
       "      <td>4.0</td>\n",
       "      <td>112.0</td>\n",
       "      <td>0.0</td>\n",
       "      <td>112.0</td>\n",
       "      <td>112.0</td>\n",
       "      <td>112.0</td>\n",
       "      <td>112.0</td>\n",
       "      <td>112.0</td>\n",
       "    </tr>\n",
       "    <tr>\n",
       "      <th>50</th>\n",
       "      <td>4.0</td>\n",
       "      <td>145.5</td>\n",
       "      <td>19.891372</td>\n",
       "      <td>130.0</td>\n",
       "      <td>133.00</td>\n",
       "      <td>139.0</td>\n",
       "      <td>151.50</td>\n",
       "      <td>174.0</td>\n",
       "      <td>4.0</td>\n",
       "      <td>145.5</td>\n",
       "      <td>0.0</td>\n",
       "      <td>145.5</td>\n",
       "      <td>145.5</td>\n",
       "      <td>145.5</td>\n",
       "      <td>145.5</td>\n",
       "      <td>145.5</td>\n",
       "    </tr>\n",
       "    <tr>\n",
       "      <th>100</th>\n",
       "      <td>3.0</td>\n",
       "      <td>148.0</td>\n",
       "      <td>7.211103</td>\n",
       "      <td>142.0</td>\n",
       "      <td>144.00</td>\n",
       "      <td>146.0</td>\n",
       "      <td>151.00</td>\n",
       "      <td>156.0</td>\n",
       "      <td>3.0</td>\n",
       "      <td>148.0</td>\n",
       "      <td>0.0</td>\n",
       "      <td>148.0</td>\n",
       "      <td>148.0</td>\n",
       "      <td>148.0</td>\n",
       "      <td>148.0</td>\n",
       "      <td>148.0</td>\n",
       "    </tr>\n",
       "    <tr>\n",
       "      <th>150</th>\n",
       "      <td>4.0</td>\n",
       "      <td>157.5</td>\n",
       "      <td>7.141428</td>\n",
       "      <td>147.0</td>\n",
       "      <td>156.75</td>\n",
       "      <td>160.0</td>\n",
       "      <td>160.75</td>\n",
       "      <td>163.0</td>\n",
       "      <td>4.0</td>\n",
       "      <td>157.5</td>\n",
       "      <td>0.0</td>\n",
       "      <td>157.5</td>\n",
       "      <td>157.5</td>\n",
       "      <td>157.5</td>\n",
       "      <td>157.5</td>\n",
       "      <td>157.5</td>\n",
       "    </tr>\n",
       "    <tr>\n",
       "      <th>200</th>\n",
       "      <td>4.0</td>\n",
       "      <td>149.0</td>\n",
       "      <td>13.490738</td>\n",
       "      <td>131.0</td>\n",
       "      <td>143.75</td>\n",
       "      <td>151.0</td>\n",
       "      <td>156.25</td>\n",
       "      <td>163.0</td>\n",
       "      <td>4.0</td>\n",
       "      <td>149.0</td>\n",
       "      <td>0.0</td>\n",
       "      <td>149.0</td>\n",
       "      <td>149.0</td>\n",
       "      <td>149.0</td>\n",
       "      <td>149.0</td>\n",
       "      <td>149.0</td>\n",
       "    </tr>\n",
       "  </tbody>\n",
       "</table>\n",
       "</div>"
      ],
      "text/plain": [
       "            Mazorcas                                                         \\\n",
       "               count   mean        std    min     25%    50%     75%    max   \n",
       "Tratamiento                                                                   \n",
       "0                4.0  112.0  21.102922   90.0  100.50  109.0  120.50  140.0   \n",
       "50               4.0  145.5  19.891372  130.0  133.00  139.0  151.50  174.0   \n",
       "100              3.0  148.0   7.211103  142.0  144.00  146.0  151.00  156.0   \n",
       "150              4.0  157.5   7.141428  147.0  156.75  160.0  160.75  163.0   \n",
       "200              4.0  149.0  13.490738  131.0  143.75  151.0  156.25  163.0   \n",
       "\n",
       "            Medias                                                 \n",
       "             count   mean  std    min    25%    50%    75%    max  \n",
       "Tratamiento                                                        \n",
       "0              4.0  112.0  0.0  112.0  112.0  112.0  112.0  112.0  \n",
       "50             4.0  145.5  0.0  145.5  145.5  145.5  145.5  145.5  \n",
       "100            3.0  148.0  0.0  148.0  148.0  148.0  148.0  148.0  \n",
       "150            4.0  157.5  0.0  157.5  157.5  157.5  157.5  157.5  \n",
       "200            4.0  149.0  0.0  149.0  149.0  149.0  149.0  149.0  "
      ]
     },
     "execution_count": 13,
     "metadata": {},
     "output_type": "execute_result"
    }
   ],
   "source": [
    "# Se usa la función groupby para agrupar las observaciones y sirve para describir los grupos (tratamientos)\n",
    "\n",
    "df[\"Medias\"] = df.groupby(by=\"Tratamiento\").transform(\"mean\") # Crear una columna con las medias\n",
    "df.groupby(by=\"Tratamiento\").describe()"
   ]
  },
  {
   "cell_type": "markdown",
   "metadata": {},
   "source": [
    "### 2. Análisis de varianza\n",
    "\n",
    "Para el análisis de varianza se emplea el módulo de statsmodel el cual permite no solamente realizar el análisis de varianza, sino también las diferentes pruebas estadísticas para la verificación de supuestos"
   ]
  },
  {
   "cell_type": "code",
   "execution_count": 8,
   "metadata": {},
   "outputs": [
    {
     "name": "stdout",
     "output_type": "stream",
     "text": [
      "                     sum_sq    df         F    PR(>F)\n",
      "C(Tratamiento)  4913.789474   4.0  5.170855  0.009035\n",
      "Residual        3326.000000  14.0       NaN       NaN\n"
     ]
    }
   ],
   "source": [
    "# Inicialmente se ajusta el modelo utilizando los mínimos cuadrados ordinarios (ols)\n",
    "\n",
    "modelo = ols(\"Mazorcas ~ C(Tratamiento)\", data=df).fit()  # Se indica que el tiempo de falla es explicado o relacionado por el material\n",
    "anova = sm.stats.anova_lm(modelo, typ=2,)           # Se realiza el análisis de varianza. Typ determina la manera en que las sumas cuadras son calculadas\n",
    "print(anova)                                       # Se imprime el análisis de varianza"
   ]
  },
  {
   "cell_type": "markdown",
   "metadata": {},
   "source": [
    "De acuerdo al estadístico F = 28.84 y el valor p = 0, se puede afirmar que existe diferencia significacitva en el tiempo de falla para los cinco materiales. Ahora el interés recae en determinar que materiales son diferentes y cuál es la mejor alternativa, pero antes es preciso evaluar el cumplimiento de los supuestos."
   ]
  },
  {
   "cell_type": "markdown",
   "metadata": {},
   "source": [
    "### 3. Pruebas de supuestos"
   ]
  },
  {
   "cell_type": "markdown",
   "metadata": {},
   "source": [
    "### a. Normalidad\n",
    "\n",
    "Tanto la normalidad como los demás supuestos pueden ser verificados empleando el análisis de los residuales y mediate herramientass gráficas o pruebas estadísticas formales"
   ]
  },
  {
   "cell_type": "code",
   "execution_count": 9,
   "metadata": {},
   "outputs": [
    {
     "data": {
      "image/png": "[encoded data removed]",
      "text/plain": [
       "<Figure size 432x288 with 1 Axes>"
      ]
     },
     "metadata": {},
     "output_type": "display_data"
    }
   ],
   "source": [
    "# Gráfico de probabilidad normal\n",
    "\n",
    "normality_plot, stat = stats.probplot(modelo.resid, plot= plt, rvalue= True)\n",
    "\n",
    "plt.title(\"Gráfico de probabilidad normal de los residuales\", fontsize= 16)\n",
    "plt.xlabel(\"Cuantiles teóricos\")\n",
    "plt.ylabel(\"Orden observado\")\n",
    "\n",
    "plt.show()"
   ]
  },
  {
   "cell_type": "code",
   "execution_count": 10,
   "metadata": {},
   "outputs": [
    {
     "name": "stdout",
     "output_type": "stream",
     "text": [
      "(0.9486793875694275, 0.3751887083053589)\n"
     ]
    }
   ],
   "source": [
    "# Prueba estadística de Shapiro Wilks\n",
    "\n",
    "SW = stats.shapiro(modelo.resid)\n",
    "print(SW)"
   ]
  },
  {
   "cell_type": "markdown",
   "metadata": {},
   "source": [
    "### Homocedasticidad"
   ]
  },
  {
   "cell_type": "code",
   "execution_count": 11,
   "metadata": {},
   "outputs": [
    {
     "data": {
      "image/png": "[encoded data removed]",
      "text/plain": [
       "<Figure size 432x288 with 1 Axes>"
      ]
     },
     "metadata": {},
     "output_type": "display_data"
    }
   ],
   "source": [
    "resid = modelo.resid\n",
    "plt.scatter(df[\"Medias\"],resid)\n",
    "plt.xlabel(\"Tratamiento\")\n",
    "plt.ylabel(\"Residual\")\n",
    "plt.title(\"Residuales vs valor ajustado\")\n",
    "plt.show()"
   ]
  },
  {
   "cell_type": "code",
   "execution_count": 12,
   "metadata": {},
   "outputs": [
    {
     "data": {
      "text/plain": [
       "LeveneResult(statistic=0.8984141053589821, pvalue=0.4908806475772971)"
      ]
     },
     "execution_count": 12,
     "metadata": {},
     "output_type": "execute_result"
    }
   ],
   "source": [
    "# Prueba de levene para supuesto de homocedasticidad\n",
    "\n",
    "stats.levene(df['Mazorcas'][df['Tratamiento'] == 0],\n",
    "             df['Mazorcas'][df['Tratamiento'] == 50],\n",
    "             df['Mazorcas'][df['Tratamiento'] == 100],\n",
    "             df['Mazorcas'][df['Tratamiento'] == 150],\n",
    "             df['Mazorcas'][df['Tratamiento'] == 200])"
   ]
  },
  {
   "cell_type": "code",
   "execution_count": 13,
   "metadata": {},
   "outputs": [
    {
     "data": {
      "text/plain": [
       "BartlettResult(statistic=4.393333741297813, pvalue=0.3553833522636274)"
      ]
     },
     "execution_count": 13,
     "metadata": {},
     "output_type": "execute_result"
    }
   ],
   "source": [
    "# Prueba de Barlett para evaluación de homocedasticidad\n",
    "\n",
    "stats.bartlett(df['Mazorcas'][df['Tratamiento'] == 0],\n",
    "             df['Mazorcas'][df['Tratamiento'] == 50],\n",
    "             df['Mazorcas'][df['Tratamiento'] == 100],\n",
    "             df['Mazorcas'][df['Tratamiento'] == 150],\n",
    "             df['Mazorcas'][df['Tratamiento'] == 200])"
   ]
  },
  {
   "cell_type": "markdown",
   "metadata": {},
   "source": [
    "### Independencia"
   ]
  },
  {
   "cell_type": "code",
   "execution_count": 14,
   "metadata": {},
   "outputs": [],
   "source": [
    "import random"
   ]
  },
  {
   "cell_type": "code",
   "execution_count": 15,
   "metadata": {},
   "outputs": [
    {
     "data": {
      "image/png": "[encoded data removed]",
      "text/plain": [
       "<Figure size 432x288 with 1 Axes>"
      ]
     },
     "metadata": {},
     "output_type": "display_data"
    }
   ],
   "source": [
    "np.random.seed(6)\n",
    "\n",
    "orden = random.sample(range(20),19)\n",
    "plt.plot(orden, modelo.resid, marker=\".\", linestyle=\"none\", markersize=12)\n",
    "plt.xlabel(\"Orden\")\n",
    "plt.ylabel(\"Residuales\")\n",
    "plt.show()"
   ]
  },
  {
   "cell_type": "markdown",
   "metadata": {},
   "source": [
    "## 4. Interpretación de resultados"
   ]
  },
  {
   "cell_type": "code",
   "execution_count": 14,
   "metadata": {},
   "outputs": [],
   "source": [
    "import statsmodels.stats.multicomp as mc  # Se importa paquete para realizar comparaciones múltiples "
   ]
  },
  {
   "cell_type": "markdown",
   "metadata": {},
   "source": [
    " ### Prueba de Tukey"
   ]
  },
  {
   "cell_type": "code",
   "execution_count": 17,
   "metadata": {},
   "outputs": [
    {
     "data": {
      "text/html": [
       "<table class=\"simpletable\">\n",
       "<caption>Multiple Comparison of Means - Tukey HSD, FWER=0.05</caption>\n",
       "<tr>\n",
       "  <th>group1</th> <th>group2</th> <th>meandiff</th>  <th>p-adj</th>   <th>lower</th>   <th>upper</th>  <th>reject</th>\n",
       "</tr>\n",
       "<tr>\n",
       "     <td>0</td>     <td>50</td>     <td>33.5</td>    <td>0.054</td>  <td>-0.4657</td> <td>67.4657</td>  <td>False</td>\n",
       "</tr>\n",
       "<tr>\n",
       "     <td>0</td>     <td>100</td>    <td>36.0</td>   <td>0.0556</td>  <td>-0.6872</td> <td>72.6872</td>  <td>False</td>\n",
       "</tr>\n",
       "<tr>\n",
       "     <td>0</td>     <td>150</td>    <td>45.5</td>    <td>0.007</td>  <td>11.5343</td> <td>79.4657</td>  <td>True</td> \n",
       "</tr>\n",
       "<tr>\n",
       "     <td>0</td>     <td>200</td>    <td>37.0</td>    <td>0.03</td>   <td>3.0343</td>  <td>70.9657</td>  <td>True</td> \n",
       "</tr>\n",
       "<tr>\n",
       "    <td>50</td>     <td>100</td>     <td>2.5</td>     <td>0.9</td>  <td>-34.1872</td> <td>39.1872</td>  <td>False</td>\n",
       "</tr>\n",
       "<tr>\n",
       "    <td>50</td>     <td>150</td>    <td>12.0</td>   <td>0.7824</td> <td>-21.9657</td> <td>45.9657</td>  <td>False</td>\n",
       "</tr>\n",
       "<tr>\n",
       "    <td>50</td>     <td>200</td>     <td>3.5</td>     <td>0.9</td>  <td>-30.4657</td> <td>37.4657</td>  <td>False</td>\n",
       "</tr>\n",
       "<tr>\n",
       "    <td>100</td>    <td>150</td>     <td>9.5</td>     <td>0.9</td>  <td>-27.1872</td> <td>46.1872</td>  <td>False</td>\n",
       "</tr>\n",
       "<tr>\n",
       "    <td>100</td>    <td>200</td>     <td>1.0</td>     <td>0.9</td>  <td>-35.6872</td> <td>37.6872</td>  <td>False</td>\n",
       "</tr>\n",
       "<tr>\n",
       "    <td>150</td>    <td>200</td>    <td>-8.5</td>     <td>0.9</td>  <td>-42.4657</td> <td>25.4657</td>  <td>False</td>\n",
       "</tr>\n",
       "</table>"
      ],
      "text/plain": [
       "<class 'statsmodels.iolib.table.SimpleTable'>"
      ]
     },
     "execution_count": 17,
     "metadata": {},
     "output_type": "execute_result"
    }
   ],
   "source": [
    "comp = mc.MultiComparison(df[\"Mazorcas\"], df[\"Tratamiento\"])\n",
    "post_hoc_res = comp.tukeyhsd()\n",
    "post_hoc_res.summary()"
   ]
  },
  {
   "cell_type": "code",
   "execution_count": 18,
   "metadata": {},
   "outputs": [
    {
     "data": {
      "image/png": "[encoded data removed]",
      "text/plain": [
       "<Figure size 720x432 with 1 Axes>"
      ]
     },
     "metadata": {},
     "output_type": "display_data"
    }
   ],
   "source": [
    "post_hoc_res.plot_simultaneous(ylabel=\"Tratamiento\", xlabel=\"Diferencia\")\n",
    "plt.title(\"Comparaciones múltiples con Tukey\");"
   ]
  },
  {
   "cell_type": "markdown",
   "metadata": {},
   "source": [
    "### Prueba de Bonferroni"
   ]
  },
  {
   "cell_type": "code",
   "execution_count": 19,
   "metadata": {},
   "outputs": [
    {
     "data": {
      "text/html": [
       "<table class=\"simpletable\">\n",
       "<caption>Test Multiple Comparison ttest_ind \n",
       "FWER=0.05 method=bonf\n",
       "alphacSidak=0.01, alphacBonf=0.005</caption>\n",
       "<tr>\n",
       "  <th>group1</th> <th>group2</th>  <th>stat</th>    <th>pval</th>  <th>pval_corr</th> <th>reject</th>\n",
       "</tr>\n",
       "<tr>\n",
       "     <td>0</td>     <td>50</td>   <td>-2.3103</td> <td>0.0602</td>  <td>0.6024</td>    <td>False</td>\n",
       "</tr>\n",
       "<tr>\n",
       "     <td>0</td>     <td>100</td>  <td>-2.7775</td>  <td>0.039</td>  <td>0.3902</td>    <td>False</td>\n",
       "</tr>\n",
       "<tr>\n",
       "     <td>0</td>     <td>150</td>  <td>-4.0846</td> <td>0.0065</td>  <td>0.0647</td>    <td>False</td>\n",
       "</tr>\n",
       "<tr>\n",
       "     <td>0</td>     <td>200</td>  <td>-2.9545</td> <td>0.0255</td>  <td>0.2546</td>    <td>False</td>\n",
       "</tr>\n",
       "<tr>\n",
       "    <td>50</td>     <td>100</td>  <td>-0.2037</td> <td>0.8466</td>    <td>1.0</td>     <td>False</td>\n",
       "</tr>\n",
       "<tr>\n",
       "    <td>50</td>     <td>150</td>  <td>-1.1356</td> <td>0.2994</td>    <td>1.0</td>     <td>False</td>\n",
       "</tr>\n",
       "<tr>\n",
       "    <td>50</td>     <td>200</td>  <td>-0.2912</td> <td>0.7807</td>    <td>1.0</td>     <td>False</td>\n",
       "</tr>\n",
       "<tr>\n",
       "    <td>100</td>    <td>150</td>  <td>-1.7349</td> <td>0.1433</td>    <td>1.0</td>     <td>False</td>\n",
       "</tr>\n",
       "<tr>\n",
       "    <td>100</td>    <td>200</td>  <td>-0.1148</td>  <td>0.913</td>    <td>1.0</td>     <td>False</td>\n",
       "</tr>\n",
       "<tr>\n",
       "    <td>150</td>    <td>200</td>  <td>1.1137</td>   <td>0.308</td>    <td>1.0</td>     <td>False</td>\n",
       "</tr>\n",
       "</table>"
      ],
      "text/plain": [
       "<class 'statsmodels.iolib.table.SimpleTable'>"
      ]
     },
     "execution_count": 19,
     "metadata": {},
     "output_type": "execute_result"
    }
   ],
   "source": [
    "tbl, a1, a2 = comp.allpairtest(stats.ttest_ind, method=\"bonf\")\n",
    "tbl"
   ]
  }
 ],
 "metadata": {
  "kernelspec": {
   "display_name": "Python 3",
   "language": "python",
   "name": "python3"
  },
  "language_info": {
   "codemirror_mode": {
    "name": "ipython",
    "version": 3
   },
   "file_extension": ".py",
   "mimetype": "text/x-python",
   "name": "python",
   "nbconvert_exporter": "python",
   "pygments_lexer": "ipython3",
   "version": "3.7.6"
  }
 },
 "nbformat": 4,
 "nbformat_minor": 4
}
