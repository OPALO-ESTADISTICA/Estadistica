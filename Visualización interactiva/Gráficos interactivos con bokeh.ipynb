{
 "cells": [
  {
   "cell_type": "markdown",
   "metadata": {},
   "source": [
    "## Construcción de un diagramas interactivos"
   ]
  },
  {
   "cell_type": "markdown",
   "metadata": {},
   "source": [
    "Para la realización de gráficos interactivos se apoya en la librería Bokeh que despliegua representaciones visualemente estéticas e informativas en el navegador.\n",
    "\n",
    "Como elemento básico se tienen los pictogramas o Glyphs, son propiedades visuales tales como color, tamaño, o posición y forma de las observaciones"
   ]
  },
  {
   "cell_type": "code",
   "execution_count": 52,
   "metadata": {},
   "outputs": [],
   "source": [
    "import pandas as pd\n",
    "import numpy as np\n",
    "from bokeh.plotting import figure\n",
    "from bokeh.models import HoverTool\n",
    "from bokeh.io import output_file, show\n",
    "from bokeh.models import CategoricalColorMapper"
   ]
  },
  {
   "cell_type": "markdown",
   "metadata": {},
   "source": [
    "## Importar datos\n",
    "\n",
    "El conjunto de datos corresponde a observaciones sobre la fertilidad, alfabetismo y tamaño de la población en paises de diferentes continentes"
   ]
  },
  {
   "cell_type": "code",
   "execution_count": 2,
   "metadata": {},
   "outputs": [],
   "source": [
    "data = pd.read_excel(\"../Datos/Fertility.xls\", header=7)\n",
    "data.dropna(inplace=True)                                 # Eliminar valores perdidos"
   ]
  },
  {
   "cell_type": "markdown",
   "metadata": {},
   "source": [
    "## 1. Primeros diagramas de dispersión interactivos"
   ]
  },
  {
   "cell_type": "code",
   "execution_count": 4,
   "metadata": {},
   "outputs": [],
   "source": [
    "# Se definen las variables x y y\n",
    "\n",
    "x = data[\"fertility\"]\n",
    "y = data[\"female literacy\"]\n",
    "\n",
    "# Se crea la figura donde se especifica los títulos de los ejes\n",
    "\n",
    "p = figure(x_axis_label='Fertilidad (niños por mujer)', \n",
    "           y_axis_label='Alfabetismo (% de la población)')\n",
    "\n",
    "# Para realizar el diagrama de dispersión se toman los círculos para relacionar los pares de observaciones\n",
    "p.circle(x,y)     # p representa la figura donde se desplegaran las observaciones x y y. circle es la forma que toma cada valor\n",
    "output_file(\"fert_lit.html\") # Guardar el archivo en formato HTML\n",
    "show(p)"
   ]
  },
  {
   "cell_type": "code",
   "execution_count": 6,
   "metadata": {},
   "outputs": [],
   "source": [
    "# Dentro de estos diagramas es posible incluir múltiples datos. En este caso se comparan continentes\n",
    "\n",
    "# Se filtran los datos para Africa y Latinoamerica. Se sigue tomando la fertilidad y el alfabetísmo\n",
    "\n",
    "x_latam = data[data[\"Continent\"] == \"LAT\"][\"fertility\"]     \n",
    "x_africa = data[data[\"Continent\"] == \"AF\"][\"fertility\"]\n",
    "\n",
    "y_latam = data[data[\"Continent\"] == \"LAT\"][\"female literacy\"]\n",
    "y_africa = data[data[\"Continent\"] == \"AF\"][\"female literacy\"]\n",
    "\n",
    "# Se especifican los títulos de los ejes\n",
    "\n",
    "p = figure(x_axis_label='Fertilidad (niños por mujer)', \n",
    "           y_axis_label='Alfabetismo (% de la población)')\n",
    "\n",
    "# A cada una de las regiones se les asigna una formadiferente para representar las observaciones, por ejemplo, tríangulos o x's\n",
    "\n",
    "p.triangle(x_latam, y_latam, color=\"cyan\", size=10, alpha=0.8)       # Latinoamerica\n",
    "p.x(x_africa, y_africa, color=\"green\", size=10, alpha=0.8)           # Africa\n",
    "\n",
    "show(p)"
   ]
  },
  {
   "cell_type": "markdown",
   "metadata": {},
   "source": [
    "## 2. Otros pictogramas"
   ]
  },
  {
   "cell_type": "code",
   "execution_count": 7,
   "metadata": {},
   "outputs": [
    {
     "data": {
      "text/html": [
       "<div>\n",
       "<style scoped>\n",
       "    .dataframe tbody tr th:only-of-type {\n",
       "        vertical-align: middle;\n",
       "    }\n",
       "\n",
       "    .dataframe tbody tr th {\n",
       "        vertical-align: top;\n",
       "    }\n",
       "\n",
       "    .dataframe thead th {\n",
       "        text-align: right;\n",
       "    }\n",
       "</style>\n",
       "<table border=\"1\" class=\"dataframe\">\n",
       "  <thead>\n",
       "    <tr style=\"text-align: right;\">\n",
       "      <th></th>\n",
       "      <th>Date</th>\n",
       "      <th>AAPL</th>\n",
       "      <th>IBM</th>\n",
       "      <th>CSCO</th>\n",
       "      <th>MSFT</th>\n",
       "    </tr>\n",
       "  </thead>\n",
       "  <tbody>\n",
       "    <tr>\n",
       "      <th>0</th>\n",
       "      <td>2000-01-03</td>\n",
       "      <td>111.937502</td>\n",
       "      <td>116.0000</td>\n",
       "      <td>108.0625</td>\n",
       "      <td>116.5625</td>\n",
       "    </tr>\n",
       "    <tr>\n",
       "      <th>1</th>\n",
       "      <td>2000-01-04</td>\n",
       "      <td>102.500003</td>\n",
       "      <td>112.0625</td>\n",
       "      <td>102.0000</td>\n",
       "      <td>112.6250</td>\n",
       "    </tr>\n",
       "    <tr>\n",
       "      <th>2</th>\n",
       "      <td>2000-01-05</td>\n",
       "      <td>103.999997</td>\n",
       "      <td>116.0000</td>\n",
       "      <td>101.6875</td>\n",
       "      <td>113.8125</td>\n",
       "    </tr>\n",
       "    <tr>\n",
       "      <th>3</th>\n",
       "      <td>2000-01-06</td>\n",
       "      <td>94.999998</td>\n",
       "      <td>114.0000</td>\n",
       "      <td>100.0000</td>\n",
       "      <td>110.0000</td>\n",
       "    </tr>\n",
       "    <tr>\n",
       "      <th>4</th>\n",
       "      <td>2000-01-07</td>\n",
       "      <td>99.500001</td>\n",
       "      <td>113.5000</td>\n",
       "      <td>105.8750</td>\n",
       "      <td>111.4375</td>\n",
       "    </tr>\n",
       "  </tbody>\n",
       "</table>\n",
       "</div>"
      ],
      "text/plain": [
       "         Date        AAPL       IBM      CSCO      MSFT\n",
       "0  2000-01-03  111.937502  116.0000  108.0625  116.5625\n",
       "1  2000-01-04  102.500003  112.0625  102.0000  112.6250\n",
       "2  2000-01-05  103.999997  116.0000  101.6875  113.8125\n",
       "3  2000-01-06   94.999998  114.0000  100.0000  110.0000\n",
       "4  2000-01-07   99.500001  113.5000  105.8750  111.4375"
      ]
     },
     "execution_count": 7,
     "metadata": {},
     "output_type": "execute_result"
    }
   ],
   "source": [
    "df_2 = pd.read_csv(\"../Datos/Stock.csv\", index_col=0) # Se importa un segundo conjunto de datos\n",
    "df_2.head()"
   ]
  },
  {
   "cell_type": "markdown",
   "metadata": {},
   "source": [
    "### Líneas y serie de tiempo"
   ]
  },
  {
   "cell_type": "code",
   "execution_count": 8,
   "metadata": {},
   "outputs": [],
   "source": [
    "date = pd.to_datetime(df_2[\"Date\"]) # Se transforma la columna Date a formato fecha usando pandas\n",
    "AAPL = df_2[\"AAPL\"]\n",
    "\n",
    "p = figure(x_axis_type=\"datetime\", x_axis_label=\"Fecha\", y_axis_label=\"Dólares\")\n",
    "\n",
    "p.line(date, AAPL)\n",
    "p.circle(date, AAPL, fill_color=\"white\",size=4)   # Se agregan marcadores dentro del diagrama de líneas\n",
    "show(p)"
   ]
  },
  {
   "cell_type": "code",
   "execution_count": 9,
   "metadata": {},
   "outputs": [],
   "source": [
    "x = np.linspace(0,10,1000)     # Se genera una secuencia de 1000 números desde el 0 hasta el 10\n",
    "y = np.cos(x)                  # Se evalúa la función coseno\n",
    "\n",
    "p = figure()\n",
    "p.line(x,y,color=\"purple\")\n",
    "show(p)"
   ]
  },
  {
   "cell_type": "markdown",
   "metadata": {},
   "source": [
    "## 2. ColumnDataSource"
   ]
  },
  {
   "cell_type": "markdown",
   "metadata": {},
   "source": [
    "Una estructura de datos comunmente utilizada para la visualización en Bokeh es ColumnDataSource. El propósito de esta estructura es actuar de manera similar a como lo hacen los dataframes para Seaborn, es decir, no definir de manera explícita las variables a graficar sino tomandolas directamente de la estructura"
   ]
  },
  {
   "cell_type": "code",
   "execution_count": 23,
   "metadata": {},
   "outputs": [],
   "source": [
    "from bokeh.plotting import ColumnDataSource\n",
    "from bokeh.sampledata.iris import flowers   # Importar dataset de iris    \n",
    "from bokeh.io import export_png             # Exportar png"
   ]
  },
  {
   "cell_type": "code",
   "execution_count": 11,
   "metadata": {},
   "outputs": [],
   "source": [
    "source = ColumnDataSource(data)      # Se crea la estructura ColumnDataSource partiendo de un dataframe\n",
    "\n",
    "p = figure()\n",
    "p.circle(x = \"fertility\", y = \"female literacy\", color=\"Continent\", source=source, size=8)\n",
    "show(p)"
   ]
  },
  {
   "cell_type": "code",
   "execution_count": 29,
   "metadata": {
    "scrolled": true
   },
   "outputs": [],
   "source": [
    "source = ColumnDataSource(flowers)\n",
    "\n",
    "p = figure(x_axis_label=\"petal_length\", y_axis_label=\"sepal_length\", tools='box_select, lasso_select')\n",
    "\n",
    "p.circle(x=\"petal_length\", y='sepal_length',selection_color=\"red\", source= source)\n",
    "\n",
    "show(p)"
   ]
  },
  {
   "cell_type": "markdown",
   "metadata": {},
   "source": [
    "### Hover"
   ]
  },
  {
   "cell_type": "markdown",
   "metadata": {},
   "source": [
    "### Diagrama de dispersión"
   ]
  },
  {
   "cell_type": "code",
   "execution_count": 61,
   "metadata": {},
   "outputs": [],
   "source": [
    "p = figure()\n",
    "\n",
    "# Convert df to a ColumnDataSource: source\n",
    "source = ColumnDataSource(data)\n",
    "\n",
    "# Make a CategoricalColorMapper object: color_mapper\n",
    "color_mapper = CategoricalColorMapper(factors=['ASI', 'NAM', 'LAT', 'AF', 'EUR', 'OCE'],\n",
    "                                      palette=['red', 'green', \"yellow\", \"darkblue\", \"cyan\", 'blue'])\n",
    "\n",
    "# Add a circle glyph to the figure p\n",
    "p.circle('fertility', 'female literacy', source=source,\n",
    "            color=dict(field='Continent', transform=color_mapper),\n",
    "            legend_group='Continent')\n",
    "\n",
    "# Specify the name of the output file and show the result\n",
    "output_file('colormap.html')\n",
    "show(p)"
   ]
  },
  {
   "cell_type": "code",
   "execution_count": 62,
   "metadata": {},
   "outputs": [],
   "source": [
    "x = date\n",
    "y = AAPL\n",
    "\n",
    "p = figure()\n",
    "\n",
    "# Add a circle glyphs to figure p\n",
    "p.circle(x, y, size=10,\n",
    "         fill_color='grey', alpha=0.1, line_color=None,\n",
    "         hover_fill_color='firebrick', hover_alpha=0.5,\n",
    "         hover_line_color='white')\n",
    "\n",
    "# Create a HoverTool: hover\n",
    "hover = HoverTool(tooltips=None, mode='vline')\n",
    "\n",
    "# Add the hover tool to the figure p \n",
    "p.add_tools(hover)\n",
    "\n",
    "# Specify the name of the output file and show the result\n",
    "output_file('hover_glyph.html')\n",
    "show(p)"
   ]
  },
  {
   "cell_type": "code",
   "execution_count": 60,
   "metadata": {},
   "outputs": [],
   "source": []
  }
 ],
 "metadata": {
  "kernelspec": {
   "display_name": "Python 3",
   "language": "python",
   "name": "python3"
  },
  "language_info": {
   "codemirror_mode": {
    "name": "ipython",
    "version": 3
   },
   "file_extension": ".py",
   "mimetype": "text/x-python",
   "name": "python",
   "nbconvert_exporter": "python",
   "pygments_lexer": "ipython3",
   "version": "3.8.5"
  }
 },
 "nbformat": 4,
 "nbformat_minor": 4
}
