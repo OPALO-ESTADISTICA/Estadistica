{
 "cells": [
  {
   "cell_type": "markdown",
   "metadata": {},
   "source": [
    "## Construcción de un diagramas interactivos"
   ]
  },
  {
   "cell_type": "code",
   "execution_count": 1,
   "metadata": {},
   "outputs": [],
   "source": [
    "import pandas as pd\n",
    "from bokeh.plotting import figure\n",
    "from bokeh.io import output_file, show"
   ]
  },
  {
   "cell_type": "code",
   "execution_count": 2,
   "metadata": {},
   "outputs": [],
   "source": [
    "# Importar datos\n",
    "\n",
    "data = pd.read_excel(\"Fertility.xls\",header=7)\n",
    "df = data[:162].copy()"
   ]
  },
  {
   "cell_type": "code",
   "execution_count": 3,
   "metadata": {},
   "outputs": [],
   "source": [
    "# Se definen las variables x y y\n",
    "\n",
    "x = df[\"fertility\"]\n",
    "y = df[\"female literacy\"]\n",
    "\n",
    "# Se crea la figura donde se especifica los títulos de los ejes\n",
    "p = figure(x_axis_label='Fertilidad (niños por mujer)', \n",
    "           y_axis_label='Alfabetismo (% de la población)')\n",
    "\n",
    "# Para realizar el diagrama de dispersión se toman los círculos para relacionar los pares de observaciones\n",
    "p.circle(x,y)\n",
    "show(p)\n"
   ]
  },
  {
   "cell_type": "code",
   "execution_count": 4,
   "metadata": {},
   "outputs": [],
   "source": [
    "# Dentro de estos diagramas es posible incluir múltiples datos. En este caso se comparan continentes\n",
    "\n",
    "x_latam = df[df[\"Continent\"] == \"LAT\"][\"fertility\"]\n",
    "x_africa = df[df[\"Continent\"] == \"AF\"][\"fertility\"]\n",
    "\n",
    "y_latam = df[df[\"Continent\"] == \"LAT\"][\"female literacy\"]\n",
    "y_africa = df[df[\"Continent\"] == \"AF\"][\"female literacy\"]\n",
    "\n",
    "# Para latinoamerica se toman círculos\n",
    "p = figure(x_axis_label='Fertilidad (niños por mujer)', \n",
    "           y_axis_label='Alfabetismo (% de la población)')\n",
    "\n",
    "# Se selecciona como glyphs (pictogramas) los círculos\n",
    "p.circle(x_latam, y_latam, color=\"blue\", size=10, \n",
    "         alpha=0.8)                             # Latinoamerica.\n",
    "p.x(x_africa, y_africa, color=\"green\", size=10, \n",
    "         alpha=0.8)                             # Africa\n",
    "\n",
    "show(p)"
   ]
  },
  {
   "cell_type": "code",
   "execution_count": 5,
   "metadata": {},
   "outputs": [],
   "source": [
    "# Construcción de líneas en un gráfico\n",
    "\n",
    "data_2 = pd.read_excel(\"Regresion.xlsx\")\n",
    "\n",
    "x = data_2[\"Resistencia\"]\n",
    "y = data_2[\"% Madera dura\"]\n",
    "\n",
    "p = figure(x_axis_label=\"Resistencia\", y_axis_label=\"% Madera dura\")\n",
    "p.line(x,y)\n",
    "p.circle(x, y, fill_color=\"white\", size=5) # Se construyen marcadores para las líneas\n",
    "\n",
    "show(p)\n"
   ]
  }
 ],
 "metadata": {
  "kernelspec": {
   "display_name": "Python 3",
   "language": "python",
   "name": "python3"
  },
  "language_info": {
   "codemirror_mode": {
    "name": "ipython",
    "version": 3
   },
   "file_extension": ".py",
   "mimetype": "text/x-python",
   "name": "python",
   "nbconvert_exporter": "python",
   "pygments_lexer": "ipython3",
   "version": "3.7.6"
  }
 },
 "nbformat": 4,
 "nbformat_minor": 4
}
